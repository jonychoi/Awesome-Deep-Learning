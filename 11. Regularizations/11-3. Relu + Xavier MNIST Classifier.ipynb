{
 "cells": [
  {
   "cell_type": "markdown",
   "metadata": {},
   "source": [
    "# Lab 9.5: Relu + Xavier MNIST Classifier\n",
    "\n",
    "**Jonathan Choi 2021**\n",
    "\n",
    "**[Deep Learning By Torch] End to End study scripts of Deep Learning by implementing code practice with Pytorch.**\n",
    "\n",
    "If you have an any issue, please PR below.\n",
    "\n",
    "[[Deep Learning By Torch] - Github @JonyChoi](https://github.com/jonychoi/Deep-Learning-By-Torch)"
   ]
  },
  {
   "cell_type": "markdown",
   "metadata": {},
   "source": [
    "## Imports"
   ]
  },
  {
   "cell_type": "code",
   "execution_count": 43,
   "metadata": {},
   "outputs": [],
   "source": [
    "import torch\n",
    "import torch.nn as nn\n",
    "import torch.nn.functional as F\n",
    "import torch.optim as optim\n",
    "import torchvision.datasets as datasets\n",
    "import torchvision.transforms as transforms\n",
    "import random"
   ]
  },
  {
   "cell_type": "code",
   "execution_count": 44,
   "metadata": {},
   "outputs": [],
   "source": [
    "device = 'cuda' if torch.cuda.is_available() else 'cpu'\n",
    "\n",
    "random.seed(1)\n",
    "torch.manual_seed(1)\n",
    "\n",
    "if device == 'cuda':\n",
    "    torch.cuda.manual_seed_all(1)"
   ]
  },
  {
   "cell_type": "markdown",
   "metadata": {},
   "source": [
    "## Load MNIST Data"
   ]
  },
  {
   "cell_type": "code",
   "execution_count": 45,
   "metadata": {},
   "outputs": [],
   "source": [
    "mnist_train = datasets.MNIST(root = 'MNIST_data/',\n",
    "                             download=True,\n",
    "                             transform=transforms.ToTensor(),\n",
    "                             train=True)\n",
    "mnist_test = datasets.MNIST(root = 'MNIST_data/',\n",
    "                            download=True,\n",
    "                            transform=transforms.ToTensor(),\n",
    "                            train= False)"
   ]
  },
  {
   "cell_type": "markdown",
   "metadata": {},
   "source": [
    "## Set Hyperparameters"
   ]
  },
  {
   "cell_type": "code",
   "execution_count": 46,
   "metadata": {},
   "outputs": [],
   "source": [
    "learning_rate = 0.001\n",
    "batch_size = 100\n",
    "training_epochs = 15"
   ]
  },
  {
   "cell_type": "code",
   "execution_count": 47,
   "metadata": {},
   "outputs": [],
   "source": [
    "data_loader = torch.utils.data.DataLoader(dataset = mnist_train, shuffle = True, drop_last=True, batch_size = batch_size)"
   ]
  },
  {
   "cell_type": "markdown",
   "metadata": {},
   "source": [
    "## Define Model"
   ]
  },
  {
   "cell_type": "code",
   "execution_count": 48,
   "metadata": {},
   "outputs": [],
   "source": [
    "class ReLuXavierMNISTClassifier(nn.Module):\n",
    "    def __init__(self):\n",
    "        super().__init__()\n",
    "        self.sq = nn.Sequential(\n",
    "            nn.Linear(784, 516),\n",
    "            nn.ReLU(),\n",
    "            nn.Linear(516, 516),\n",
    "            nn.ReLU(),\n",
    "            nn.Linear(516, 516),\n",
    "            nn.ReLU(),\n",
    "            nn.Linear(516, 516),\n",
    "            nn.ReLU(),\n",
    "            nn.Linear(516, 10)\n",
    "        )\n",
    "        self.weightInitializer()\n",
    "\n",
    "    def weightInitializer(self):\n",
    "        for index, layer in enumerate(self.sq):\n",
    "            if index != 1 and index != 3 and index != 5 and index != 7:\n",
    "                nn.init.xavier_uniform_(layer.weight)\n",
    "\n",
    "    def forward(self, x):\n",
    "        return self.sq(x)"
   ]
  },
  {
   "cell_type": "code",
   "execution_count": 49,
   "metadata": {},
   "outputs": [],
   "source": [
    "model = ReLuXavierMNISTClassifier().to(device)"
   ]
  },
  {
   "cell_type": "code",
   "execution_count": 50,
   "metadata": {},
   "outputs": [],
   "source": [
    "optimizer = optim.Adam(model.parameters(), lr=learning_rate)"
   ]
  },
  {
   "cell_type": "markdown",
   "metadata": {},
   "source": [
    "## Train Model"
   ]
  },
  {
   "cell_type": "code",
   "execution_count": 51,
   "metadata": {},
   "outputs": [
    {
     "name": "stdout",
     "output_type": "stream",
     "text": [
      "Epoch: 1 / 15, Cost: 0.212796\n",
      "Epoch: 2 / 15, Cost: 0.087777\n",
      "Epoch: 3 / 15, Cost: 0.061607\n",
      "Epoch: 4 / 15, Cost: 0.048517\n",
      "Epoch: 5 / 15, Cost: 0.043476\n",
      "Epoch: 6 / 15, Cost: 0.031130\n",
      "Epoch: 7 / 15, Cost: 0.030316\n",
      "Epoch: 8 / 15, Cost: 0.023586\n",
      "Epoch: 9 / 15, Cost: 0.023560\n",
      "Epoch: 10 / 15, Cost: 0.021674\n",
      "Epoch: 11 / 15, Cost: 0.021906\n",
      "Epoch: 12 / 15, Cost: 0.017494\n",
      "Epoch: 13 / 15, Cost: 0.015295\n",
      "Epoch: 14 / 15, Cost: 0.019556\n",
      "Epoch: 15 / 15, Cost: 0.014361\n"
     ]
    }
   ],
   "source": [
    "total_batch = len(data_loader)\n",
    "\n",
    "for epoch in range(training_epochs):\n",
    "\n",
    "    avg_cost = 0\n",
    "\n",
    "    for X, Y in data_loader:\n",
    "\n",
    "        X = X.view(-1, 28 * 28).to(device)\n",
    "        Y = Y.to(device)\n",
    "\n",
    "        #prediction\n",
    "        pred = model(X)\n",
    "\n",
    "        #cost\n",
    "        cost = F.cross_entropy(pred, Y).to(device)\n",
    "\n",
    "        #Reduce cost\n",
    "        optimizer.zero_grad()\n",
    "        cost.backward()\n",
    "        optimizer.step()\n",
    "\n",
    "        avg_cost += cost\n",
    "\n",
    "    avg_cost = avg_cost / total_batch\n",
    "\n",
    "    print('Epoch: {} / 15, Cost: {:.6f}'.format(epoch+1, avg_cost.item()))\n",
    "\n",
    "print('Learning Finished')"
   ]
  },
  {
   "cell_type": "code",
   "execution_count": 52,
   "metadata": {},
   "outputs": [
    {
     "name": "stdout",
     "output_type": "stream",
     "text": [
      "Accuracy: 0.9817000031471252\n",
      "Label: 4\n",
      "Prediction: 4\n"
     ]
    }
   ],
   "source": [
    "#Accuracy Test and Check Prediction\n",
    "\n",
    "with torch.no_grad():\n",
    "\n",
    "    X_test = mnist_test.data.view(-1, 28 * 28).float().to(device)\n",
    "    Y_test = mnist_test.targets.to(device)\n",
    "\n",
    "    pred = model(X_test)\n",
    "    correct_prediction = (torch.argmax(pred, 1) == Y_test)\n",
    "    accuracy = correct_prediction.float().mean()\n",
    "\n",
    "    print('Accuracy: {}'.format(accuracy))\n",
    "\n",
    "    r = random.randint(0, len(mnist_test) - 1)\n",
    "\n",
    "    X_single_prediction = X_test[r]\n",
    "    Y_single_prediction = Y_test[r]\n",
    "\n",
    "    print('Label: {}'.format(Y_single_prediction.item()))\n",
    "    print('Prediction: {}'.format(torch.argmax(model(X_single_prediction)).item()))"
   ]
  }
 ],
 "metadata": {
  "interpreter": {
   "hash": "38ed4d61829b01de31b0fe0651719916120d9f7e023a62cbbfea93b7d24a50a0"
  },
  "kernelspec": {
   "display_name": "Python 3.8.8 64-bit ('buddhalight': conda)",
   "name": "python3"
  },
  "language_info": {
   "name": "python",
   "version": "3.8.8"
  },
  "orig_nbformat": 4
 },
 "nbformat": 4,
 "nbformat_minor": 2
}

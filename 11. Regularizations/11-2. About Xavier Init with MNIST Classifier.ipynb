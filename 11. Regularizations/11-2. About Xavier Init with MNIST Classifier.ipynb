{
 "cells": [
  {
   "cell_type": "markdown",
   "metadata": {},
   "source": [
    "# Lab 9.4: About Xavier init with MNIST Classifier\n",
    "\n",
    "**Jonathan Choi 2021**\n",
    "\n",
    "**[Deep Learning By Torch] End to End study scripts of Deep Learning by implementing code practice with Pytorch.**\n",
    "\n",
    "If you have an any issue, please PR below.\n",
    "\n",
    "[[Deep Learning By Torch] - Github @JonyChoi](https://github.com/jonychoi/Deep-Learning-By-Torch)"
   ]
  },
  {
   "cell_type": "markdown",
   "metadata": {},
   "source": [
    "## Imports"
   ]
  },
  {
   "cell_type": "code",
   "execution_count": 2,
   "metadata": {},
   "outputs": [],
   "source": [
    "import torch\n",
    "import torch.nn as nn\n",
    "import torch.nn.functional as F\n",
    "import torch.optim as optim\n",
    "import torchvision.datasets as datasets\n",
    "import torchvision.transforms as transforms\n",
    "import random"
   ]
  },
  {
   "cell_type": "code",
   "execution_count": 3,
   "metadata": {},
   "outputs": [],
   "source": [
    "device = 'cuda' if torch.cuda.is_available() else 'cpu'\n",
    "\n",
    "random.seed(1)\n",
    "torch.manual_seed(1)\n",
    "\n",
    "if device == 'cuda':\n",
    "    torch.cuda.manual_seed_all(1)"
   ]
  },
  {
   "cell_type": "markdown",
   "metadata": {},
   "source": [
    "## Load MNIST Data"
   ]
  },
  {
   "cell_type": "code",
   "execution_count": null,
   "metadata": {},
   "outputs": [
    {
     "name": "stderr",
     "output_type": "stream",
     "text": [
      "C:\\Users\\buddhalight\\envs\\buddhalight\\lib\\site-packages\\torchvision\\datasets\\mnist.py:498: UserWarning: The given NumPy array is not writeable, and PyTorch does not support non-writeable tensors. This means you can write to the underlying (supposedly non-writeable) NumPy array using the tensor. You may want to copy the array to protect its data or make it writeable before converting it to a tensor. This type of warning will be suppressed for the rest of this program. (Triggered internally at  ..\\torch\\csrc\\utils\\tensor_numpy.cpp:180.)\n",
      "  return torch.from_numpy(parsed.astype(m[2], copy=False)).view(*s)\n"
     ]
    }
   ],
   "source": [
    "mnist_train = datasets.MNIST(root = 'MNIST_data/',\n",
    "                             download=True,\n",
    "                             transform=transforms.ToTensor(),\n",
    "                             train=True)\n",
    "mnist_test = datasets.MNIST(root = 'MNIST_data/',\n",
    "                            download=True,\n",
    "                            transform = transforms.ToTensor(),\n",
    "                            train = False)"
   ]
  },
  {
   "cell_type": "markdown",
   "metadata": {},
   "source": [
    "## Set Hyperparameters"
   ]
  },
  {
   "cell_type": "code",
   "execution_count": 5,
   "metadata": {},
   "outputs": [],
   "source": [
    "training_epochs = 15\n",
    "learning_rate = 0.001\n",
    "batch_size = 100"
   ]
  },
  {
   "cell_type": "code",
   "execution_count": 6,
   "metadata": {},
   "outputs": [],
   "source": [
    "data_loader = torch.utils.data.DataLoader(dataset = mnist_train, shuffle= True, drop_last = True, batch_size = batch_size)"
   ]
  },
  {
   "cell_type": "markdown",
   "metadata": {},
   "source": [
    "## Define Model"
   ]
  },
  {
   "cell_type": "code",
   "execution_count": 16,
   "metadata": {},
   "outputs": [],
   "source": [
    "class Xavier_MNIST_Classifier(nn.Module):\n",
    "    def __init__(self):\n",
    "        super().__init__()\n",
    "        self.sq = nn.Sequential(\n",
    "            nn.Linear(784, 256),\n",
    "            nn.ReLU(),\n",
    "            nn.Linear(256, 256),\n",
    "            nn.ReLU(),\n",
    "            nn.Linear(256, 10),\n",
    "        )\n",
    "        self.weightInitializer()\n",
    "\n",
    "    def forward(self, x):\n",
    "        return self.sq(x)\n",
    "\n",
    "    def weightInitializer(self):\n",
    "        for index, layer in enumerate(self.sq):\n",
    "            if index != 1 and index != 3:\n",
    "                nn.init.xavier_uniform_(layer.weight)"
   ]
  },
  {
   "cell_type": "code",
   "execution_count": 17,
   "metadata": {},
   "outputs": [],
   "source": [
    "model = Xavier_MNIST_Classifier().to(device)"
   ]
  },
  {
   "cell_type": "code",
   "execution_count": 18,
   "metadata": {},
   "outputs": [],
   "source": [
    "optimizer = optim.Adam(model.parameters(), lr=learning_rate)"
   ]
  },
  {
   "cell_type": "markdown",
   "metadata": {},
   "source": [
    "## Train Model"
   ]
  },
  {
   "cell_type": "code",
   "execution_count": 19,
   "metadata": {},
   "outputs": [
    {
     "name": "stdout",
     "output_type": "stream",
     "text": [
      "Epoch: 0 / 15, cost: 0.141852\n",
      "Epoch: 1 / 15, cost: 0.089611\n",
      "Epoch: 2 / 15, cost: 0.038303\n",
      "Epoch: 3 / 15, cost: 0.173185\n",
      "Epoch: 4 / 15, cost: 0.012622\n",
      "Epoch: 5 / 15, cost: 0.061407\n",
      "Epoch: 6 / 15, cost: 0.070664\n",
      "Epoch: 7 / 15, cost: 0.010458\n",
      "Epoch: 8 / 15, cost: 0.004857\n",
      "Epoch: 9 / 15, cost: 0.007333\n",
      "Epoch: 10 / 15, cost: 0.002014\n",
      "Epoch: 11 / 15, cost: 0.004299\n",
      "Epoch: 12 / 15, cost: 0.051862\n",
      "Epoch: 13 / 15, cost: 0.053505\n",
      "Epoch: 14 / 15, cost: 0.020849\n"
     ]
    }
   ],
   "source": [
    "total_batch = len(data_loader)\n",
    "\n",
    "for epoch in range(training_epochs):\n",
    "\n",
    "    avg_cost = 0\n",
    "    \n",
    "    for X, Y in data_loader:\n",
    "\n",
    "        X = X.view(-1, 28 * 28).to(device)\n",
    "        Y = Y.to(device)\n",
    "\n",
    "        #prediction\n",
    "        pred = model(X)\n",
    "\n",
    "        #cost\n",
    "        cost = F.cross_entropy(pred, Y).to(device)\n",
    "\n",
    "        #Reduce cost\n",
    "        optimizer.zero_grad()\n",
    "        cost.backward()\n",
    "        optimizer.step()\n",
    "\n",
    "        avg_cost += cost\n",
    "    \n",
    "    avg_cost = avg_cost / total_batch\n",
    "\n",
    "    print('Epoch: {:d} / 15, cost: {:.6f}'.format(epoch, cost.item()))"
   ]
  },
  {
   "cell_type": "code",
   "execution_count": 20,
   "metadata": {},
   "outputs": [
    {
     "name": "stdout",
     "output_type": "stream",
     "text": [
      "Accuracy:  0.9787999987602234\n",
      "Label:  5\n",
      "Prediction:  5\n"
     ]
    }
   ],
   "source": [
    "#Accuracy test and check prediction\n",
    "\n",
    "with torch.no_grad():\n",
    "\n",
    "    X_test = mnist_test.data.view(-1, 28 * 28).float().to(device)\n",
    "    Y_test = mnist_test.targets.to(device)\n",
    "\n",
    "    r = random.randint(0, len(mnist_test) - 1)\n",
    "\n",
    "    pred = model(X_test)\n",
    "    correct_prediction = torch.argmax(pred, 1)\n",
    "    accuracy = (correct_prediction == Y_test).float().mean()\n",
    "\n",
    "    print('Accuracy: ', accuracy.item())\n",
    "\n",
    "    X_single_prediction = X_test[r]\n",
    "    Y_single_prediction = Y_test[r]\n",
    "\n",
    "    print('Label: ', Y_single_prediction.item())\n",
    "    print('Prediction: ', torch.argmax(model(X_single_prediction)).item())\n",
    "    "
   ]
  }
 ],
 "metadata": {
  "interpreter": {
   "hash": "38ed4d61829b01de31b0fe0651719916120d9f7e023a62cbbfea93b7d24a50a0"
  },
  "kernelspec": {
   "display_name": "Python 3.8.8 64-bit ('buddhalight': conda)",
   "name": "python3"
  },
  "language_info": {
   "codemirror_mode": {
    "name": "ipython",
    "version": 3
   },
   "file_extension": ".py",
   "mimetype": "text/x-python",
   "name": "python",
   "nbconvert_exporter": "python",
   "pygments_lexer": "ipython3",
   "version": "3.8.8"
  },
  "orig_nbformat": 4
 },
 "nbformat": 4,
 "nbformat_minor": 2
}

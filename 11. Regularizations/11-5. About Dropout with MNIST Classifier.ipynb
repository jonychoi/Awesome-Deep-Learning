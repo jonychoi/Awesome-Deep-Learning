{
 "cells": [
  {
   "cell_type": "markdown",
   "metadata": {},
   "source": [
    "# Lab 9.7 - About Dropout with MNIST Classifier\n",
    "\n",
    "**Jonathan Choi 2021**\n",
    "\n",
    "**[Deep Learning By Torch] End to End study scripts of Deep Learning by implementing code practice with Pytorch.**\n",
    "\n",
    "If you have an any issue, please PR below.\n",
    "\n",
    "[[Deep Learning By Torch] - Github @JonyChoi](https://github.com/jonychoi/Deep-Learning-By-Torch)\n",
    "\n",
    "Here, we are going to adapt the new module, **Dropout** that makes the neural network more compatible to the general data, one of the techniques to prevent overfitting as a regularization. We are going to create the multi layer neural network as always, additional with Dropout."
   ]
  },
  {
   "cell_type": "markdown",
   "metadata": {},
   "source": [
    "## Imports"
   ]
  },
  {
   "cell_type": "code",
   "execution_count": 56,
   "metadata": {},
   "outputs": [],
   "source": [
    "import torch\n",
    "import torch.nn as nn\n",
    "import torch.nn.functional as F\n",
    "import torch.optim as optim\n",
    "import torchvision.datasets as datasets\n",
    "import torchvision.transforms as transforms\n",
    "import random"
   ]
  },
  {
   "cell_type": "code",
   "execution_count": 57,
   "metadata": {},
   "outputs": [],
   "source": [
    "device = 'cuda' if torch.cuda.is_available() else 'cpu'\n",
    "\n",
    "random.seed(1)\n",
    "torch.manual_seed(1)\n",
    "\n",
    "if device == 'cuda':\n",
    "    torch.cuda.manual_seed_all(1)"
   ]
  },
  {
   "cell_type": "code",
   "execution_count": 58,
   "metadata": {},
   "outputs": [],
   "source": [
    "mnist_train = datasets.MNIST(root = 'MNIST_data/',\n",
    "                             download = True,\n",
    "                             transform = transforms.ToTensor(),\n",
    "                             train=True)\n",
    "mnist_test = datasets.MNIST(root = 'MNIST_data/',\n",
    "                            download = True,\n",
    "                            transform = transforms.ToTensor(),\n",
    "                            train = False)"
   ]
  },
  {
   "cell_type": "code",
   "execution_count": 59,
   "metadata": {},
   "outputs": [],
   "source": [
    "training_epochs = 15\n",
    "batch_size = 100\n",
    "learning_rate = 0.001\n",
    "drop_prob = 0.3"
   ]
  },
  {
   "cell_type": "code",
   "execution_count": 60,
   "metadata": {},
   "outputs": [],
   "source": [
    "data_loader = torch.utils.data.DataLoader(dataset=mnist_train, shuffle = True, drop_last = True, batch_size = batch_size)"
   ]
  },
  {
   "cell_type": "code",
   "execution_count": 61,
   "metadata": {},
   "outputs": [],
   "source": [
    "class Dropout_MNIST_Classifier(nn.Module):\n",
    "    def __init__(self):\n",
    "        super().__init__()\n",
    "        self.sq = nn.Sequential(\n",
    "            nn.Linear(784, 516),\n",
    "            nn.ReLU(),\n",
    "            nn.Dropout(p=drop_prob),\n",
    "            nn.Linear(516, 516),\n",
    "            nn.ReLU(),\n",
    "            nn.Dropout(p=drop_prob),\n",
    "            nn.Linear(516, 516),\n",
    "            nn.ReLU(),\n",
    "            nn.Dropout(p=drop_prob),\n",
    "            nn.Linear(516, 516),\n",
    "            nn.ReLU(),\n",
    "            nn.Dropout(p=drop_prob),\n",
    "            nn.Linear(516, 10)\n",
    "        )\n",
    "        self.weightInitializer()\n",
    "\n",
    "    def weightInitializer(self):\n",
    "        for index, layer in enumerate(self.sq):\n",
    "            if index != 1 and index != 2 and index != 4 and index != 5 and index != 7 and index != 8 and index != 10 and index != 11:\n",
    "                nn.init.xavier_uniform_(layer.weight)\n",
    "\n",
    "    def forward(self, x):\n",
    "        return self.sq(x)"
   ]
  },
  {
   "cell_type": "code",
   "execution_count": 62,
   "metadata": {},
   "outputs": [],
   "source": [
    "model = Dropout_MNIST_Classifier().to(device)"
   ]
  },
  {
   "cell_type": "code",
   "execution_count": 63,
   "metadata": {},
   "outputs": [],
   "source": [
    "optimizer = optim.Adam(model.parameters(), lr=learning_rate)"
   ]
  },
  {
   "cell_type": "code",
   "execution_count": 64,
   "metadata": {},
   "outputs": [
    {
     "name": "stdout",
     "output_type": "stream",
     "text": [
      "Epoch: 1 / 15, Cost: 0.309588\n",
      "Epoch: 2 / 15, Cost: 0.142839\n",
      "Epoch: 3 / 15, Cost: 0.112396\n",
      "Epoch: 4 / 15, Cost: 0.092985\n",
      "Epoch: 5 / 15, Cost: 0.082222\n",
      "Epoch: 6 / 15, Cost: 0.075470\n",
      "Epoch: 7 / 15, Cost: 0.065344\n",
      "Epoch: 8 / 15, Cost: 0.065210\n",
      "Epoch: 9 / 15, Cost: 0.057394\n",
      "Epoch: 10 / 15, Cost: 0.051965\n",
      "Epoch: 11 / 15, Cost: 0.053811\n",
      "Epoch: 12 / 15, Cost: 0.049630\n",
      "Epoch: 13 / 15, Cost: 0.047635\n",
      "Epoch: 14 / 15, Cost: 0.043034\n",
      "Epoch: 15 / 15, Cost: 0.045472\n"
     ]
    }
   ],
   "source": [
    "total_batch = len(data_loader)\n",
    "\n",
    "for epoch in range(training_epochs):\n",
    "\n",
    "    avg_cost = 0\n",
    "\n",
    "    for X, Y in data_loader:\n",
    "\n",
    "        X = X.view(-1, 28 * 28).to(device)\n",
    "        Y = Y.to(device)\n",
    "\n",
    "        #prediction\n",
    "        pred = model(X)\n",
    "\n",
    "        #cost\n",
    "        cost = F.cross_entropy(pred, Y)\n",
    "\n",
    "        #Reduce the cost\n",
    "        optimizer.zero_grad()\n",
    "        cost.backward()\n",
    "        optimizer.step()\n",
    "\n",
    "        avg_cost += cost\n",
    "\n",
    "    avg_cost = avg_cost / total_batch\n",
    "\n",
    "    print('Epoch: {:d} / 15, Cost: {:.6f}'.format(epoch + 1, avg_cost.item()))"
   ]
  },
  {
   "cell_type": "markdown",
   "metadata": {},
   "source": [
    "### Take a moment!\n",
    "\n",
    "```model.eval()``` should be exist at the first line of inference code to disable the dropout => dropout = False"
   ]
  },
  {
   "cell_type": "code",
   "execution_count": 72,
   "metadata": {},
   "outputs": [
    {
     "name": "stdout",
     "output_type": "stream",
     "text": [
      "Accuracy: 0.981099963\n",
      "Label: 0, Prediction: 0\n"
     ]
    }
   ],
   "source": [
    "#Prediction and accuracy check\n",
    "\n",
    "with torch.no_grad():\n",
    "    model.eval()\n",
    "\n",
    "    X = mnist_test.data.view(-1, 28 * 28).float().to(device)\n",
    "    Y = mnist_test.targets.to(device)\n",
    "\n",
    "    #prediction\n",
    "    prediction = torch.argmax(model(X), 1)\n",
    "    correct_prediction = (prediction == Y)\n",
    "    accuracy = correct_prediction.float().mean()\n",
    "\n",
    "    #check samples and prediction\n",
    "    r = random.randint(0, len(mnist_test) - 1)\n",
    "    X_single_prediction = X[r]\n",
    "    Y_single_prediction = Y[r]\n",
    "\n",
    "    print('Accuracy: {:.9f}'.format(accuracy))\n",
    "    print('Label: {}, Prediction: {}'.format(Y_single_prediction, torch.argmax(model(X_single_prediction))))"
   ]
  },
  {
   "cell_type": "code",
   "execution_count": null,
   "metadata": {},
   "outputs": [],
   "source": []
  }
 ],
 "metadata": {
  "interpreter": {
   "hash": "38ed4d61829b01de31b0fe0651719916120d9f7e023a62cbbfea93b7d24a50a0"
  },
  "kernelspec": {
   "display_name": "Python 3.8.8 64-bit ('buddhalight': conda)",
   "name": "python3"
  },
  "language_info": {
   "codemirror_mode": {
    "name": "ipython",
    "version": 3
   },
   "file_extension": ".py",
   "mimetype": "text/x-python",
   "name": "python",
   "nbconvert_exporter": "python",
   "pygments_lexer": "ipython3",
   "version": "3.8.8"
  },
  "orig_nbformat": 4
 },
 "nbformat": 4,
 "nbformat_minor": 2
}

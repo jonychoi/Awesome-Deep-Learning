{
 "cells": [
  {
   "cell_type": "markdown",
   "metadata": {},
   "source": [
    "# Lab 10.3.1 Visdom Example\n",
    "\n",
    "**Jonathan Choi 2021**\n",
    "\n",
    "**[Deep Learning By Torch] End to End study scripts of Deep Learning by implementing code practice with Pytorch.**\n",
    "\n",
    "If you have an any issue, please PR below.\n",
    "\n",
    "[[Deep Learning By Torch] - Github @JonyChoi](https://github.com/jonychoi/Deep-Learning-By-Torch)\n",
    "Here, we are going to learn about the usage of the Visdom, which is the tool to visualize the graphs and other various things during experiment.\n",
    "\n",
    "You can find more about here:\n",
    "\n",
    "https://pypi.org/project/visdom/"
   ]
  },
  {
   "cell_type": "markdown",
   "metadata": {},
   "source": [
    "## Imports"
   ]
  },
  {
   "cell_type": "code",
   "execution_count": 1,
   "metadata": {},
   "outputs": [],
   "source": [
    "import torch\n",
    "import torch.nn as nn\n",
    "import torch.nn.functional as F\n",
    "import torchvision.datasets as datasets\n",
    "import torchvision.transforms as transforms"
   ]
  },
  {
   "cell_type": "markdown",
   "metadata": {},
   "source": [
    "## Import Visdom\n",
    "\n",
    "Jupyter Notebook > Terminal\n",
    "\n",
    "Type ```python -m visdom.server```"
   ]
  },
  {
   "cell_type": "code",
   "execution_count": 2,
   "metadata": {},
   "outputs": [
    {
     "name": "stderr",
     "output_type": "stream",
     "text": [
      "Setting up a new session...\n"
     ]
    }
   ],
   "source": [
    "import visdom\n",
    "vis = visdom.Visdom()"
   ]
  },
  {
   "cell_type": "markdown",
   "metadata": {},
   "source": [
    "## Text"
   ]
  },
  {
   "cell_type": "code",
   "execution_count": 3,
   "metadata": {},
   "outputs": [
    {
     "data": {
      "text/plain": [
       "'window_39d440e5bf1724'"
      ]
     },
     "execution_count": 3,
     "metadata": {},
     "output_type": "execute_result"
    }
   ],
   "source": [
    "vis.text(\"Hello, world\", env=\"main\")"
   ]
  },
  {
   "cell_type": "markdown",
   "metadata": {},
   "source": [
    "### Take a Moment!\n",
    "\n",
    "**TORCH.RANDN**\n",
    "\n",
    "torch.randn(*size, *, out=None, dtype=None, layout=torch.strided, device=None, requires_grad=False) → Tensor\n",
    "\n",
    "Returns a tensor filled with random numbers from a normal distribution with mean 0 and variance 1 (also called the standard normal distribution).\n",
    "\n",
    "out(i)∼N(0,1)\n",
    " \n",
    "The shape of the tensor is defined by the variable argument ```size```.\n",
    "\n",
    "**Parameters**\n",
    "> **size** (int...) – a sequence of integers defining the shape of the output tensor. Can be a variable number of arguments or a collection like a list or tuple.\n",
    "\n",
    "**Keyword Arguments**\n",
    "> - **generator** (torch.Generator, optional) – a pseudorandom number generator for sampling\n",
    "\n",
    "> - **out** (Tensor, optional) – the output tensor.\n",
    "\n",
    "> - **dtype** (torch.dtype, optional) – the desired data type of returned tensor. Default: if None, uses a global default (see torch.set_default_tensor_type()).\n",
    "\n",
    "> - **layout** (torch.layout, optional) – the desired layout of returned Tensor. Default: torch.strided.\n",
    "\n",
    "> - **device** (torch.device, optional) – the desired device of returned tensor. Default: if None, uses the current device for the default tensor type (see torch.set_default_tensor_type()). device will be the CPU for CPU tensor types and the current CUDA device for CUDA tensor types.\n",
    "\n",
    "> - **requires_grad** (bool, optional) – If autograd should record operations on the returned tensor. Default: False.\n",
    "\n",
    "Example:\n",
    "\n",
    "```\n",
    ">>> torch.randn(4)\n",
    "tensor([-2.1436,  0.9966,  2.3426, -0.6366])\n",
    ">>> torch.randn(2, 3)\n",
    "tensor([[ 1.5954,  2.8929, -1.0923],\n",
    "        [ 1.1719, -0.4709, -0.1996]])\n",
    "```"
   ]
  },
  {
   "cell_type": "markdown",
   "metadata": {},
   "source": [
    "## Image"
   ]
  },
  {
   "cell_type": "code",
   "execution_count": 4,
   "metadata": {},
   "outputs": [
    {
     "data": {
      "text/plain": [
       "'window_39d440e5cab6b0'"
      ]
     },
     "execution_count": 4,
     "metadata": {},
     "output_type": "execute_result"
    }
   ],
   "source": [
    "a = torch.randn(3, 200, 200)\n",
    "vis.image(a)"
   ]
  },
  {
   "cell_type": "markdown",
   "metadata": {},
   "source": [
    "### Take a Moment!\n",
    "\n",
    "## Q What is the difference between torch.tensor and torch.Tensor?\n",
    "\n",
    "Since version 0.4.0, it is possible to use torch.tensor and torch.Tensor\n",
    "\n",
    "What is the difference? What was the reasoning for providing these two very similar and confusing alternatives?\n",
    "\n",
    "## A\n",
    "\n",
    "In PyTorch torch.Tensor is the main tensor class. So all tensors are just instances of torch.Tensor.\n",
    "\n",
    "When you call torch.Tensor() you will get an empty tensor without any data.\n",
    "\n",
    "In contrast torch.tensor is a function which returns a tensor. In the documentation it says:\n",
    "\n",
    "torch.tensor(data, dtype=None, device=None, requires_grad=False) → Tensor\n",
    "Constructs a tensor with data.\n",
    "\n",
    "This also also explains why it is no problem creating an empty tensor instance of `torch.Tensor` without `data` by calling:\n",
    "tensor_without_data = torch.Tensor()\n",
    "But on the other side:\n",
    "\n",
    "```tensor_without_data = torch.tensor()```\n",
    "\n",
    "Will lead to an error:\n",
    "\n",
    "```---------------------------------------------------------------------------\n",
    "TypeError                                 Traceback (most recent call last)\n",
    "<ipython-input-12-ebc3ceaa76d2> in <module>()\n",
    "----> 1 torch.tensor()\n",
    "\n",
    "TypeError: tensor() missing 1 required positional arguments: \"data\"\n",
    "```\n",
    "\n",
    "But in general there is no reason to choose `torch.Tensor` over `torch.tensor`. Also `torch.Tensor` lacks a docstring.\n",
    "Similar behaviour for creating a tensor without data like with: torch.Tensor() can be achieved using:\n",
    "\n",
    "```torch.tensor(())```\n",
    "\n",
    "Output:\n",
    "\n",
    "```tensor([])```"
   ]
  },
  {
   "cell_type": "markdown",
   "metadata": {},
   "source": [
    "## Images"
   ]
  },
  {
   "cell_type": "code",
   "execution_count": 5,
   "metadata": {},
   "outputs": [
    {
     "data": {
      "text/plain": [
       "'window_39d440e5d0187a'"
      ]
     },
     "execution_count": 5,
     "metadata": {},
     "output_type": "execute_result"
    }
   ],
   "source": [
    "vis.images(torch.Tensor(3,3,28,28))"
   ]
  },
  {
   "cell_type": "markdown",
   "metadata": {},
   "source": [
    "## Example (using MNIST and CIFAR10)"
   ]
  },
  {
   "cell_type": "code",
   "execution_count": 6,
   "metadata": {},
   "outputs": [
    {
     "name": "stderr",
     "output_type": "stream",
     "text": [
      "C:\\Users\\buddhalight\\envs\\buddhalight\\lib\\site-packages\\torchvision\\datasets\\mnist.py:498: UserWarning: The given NumPy array is not writeable, and PyTorch does not support non-writeable tensors. This means you can write to the underlying (supposedly non-writeable) NumPy array using the tensor. You may want to copy the array to protect its data or make it writeable before converting it to a tensor. This type of warning will be suppressed for the rest of this program. (Triggered internally at  ..\\torch\\csrc\\utils\\tensor_numpy.cpp:180.)\n",
      "  return torch.from_numpy(parsed.astype(m[2], copy=False)).view(*s)\n"
     ]
    },
    {
     "name": "stdout",
     "output_type": "stream",
     "text": [
      "Files already downloaded and verified\n"
     ]
    }
   ],
   "source": [
    "MNIST = datasets.MNIST(root = 'MNIST_data/', \n",
    "                       download = True, \n",
    "                       transform = transforms.ToTensor(),\n",
    "                       train = True)\n",
    "cifar10 = datasets.CIFAR10(root = 'cifar10/', \n",
    "                           download = True, \n",
    "                           transform = transforms.ToTensor(),\n",
    "                           train = True)"
   ]
  },
  {
   "cell_type": "markdown",
   "metadata": {},
   "source": [
    "### CIFAR10"
   ]
  },
  {
   "cell_type": "code",
   "execution_count": 7,
   "metadata": {},
   "outputs": [
    {
     "name": "stdout",
     "output_type": "stream",
     "text": [
      "torch.Size([3, 32, 32])\n"
     ]
    },
    {
     "data": {
      "text/plain": [
       "'window_39d440e64faa3c'"
      ]
     },
     "execution_count": 7,
     "metadata": {},
     "output_type": "execute_result"
    }
   ],
   "source": [
    "data = cifar10.__getitem__(0)\n",
    "print(data[0].shape)\n",
    "vis.image(data[0], env = 'main')"
   ]
  },
  {
   "cell_type": "markdown",
   "metadata": {},
   "source": [
    "### MNIST"
   ]
  },
  {
   "cell_type": "code",
   "execution_count": 8,
   "metadata": {},
   "outputs": [
    {
     "name": "stdout",
     "output_type": "stream",
     "text": [
      "torch.Size([1, 28, 28])\n"
     ]
    },
    {
     "data": {
      "text/plain": [
       "'window_39d440e658134c'"
      ]
     },
     "execution_count": 8,
     "metadata": {},
     "output_type": "execute_result"
    }
   ],
   "source": [
    "data = MNIST.__getitem__(0)\n",
    "print(data[0].shape) #make this since data is tuple of (X, Y)\n",
    "vis.image(data[0], env = \"main\")"
   ]
  },
  {
   "cell_type": "markdown",
   "metadata": {},
   "source": [
    "### Check dataset"
   ]
  },
  {
   "cell_type": "code",
   "execution_count": 9,
   "metadata": {},
   "outputs": [],
   "source": [
    "data_loader = torch.utils.data.DataLoader(dataset = MNIST,\n",
    "                                          shuffle = False,\n",
    "                                          drop_last = True,\n",
    "                                          batch_size = 32)"
   ]
  },
  {
   "cell_type": "code",
   "execution_count": 10,
   "metadata": {},
   "outputs": [
    {
     "name": "stdout",
     "output_type": "stream",
     "text": [
      "torch.Size([32, 1, 28, 28])\n"
     ]
    }
   ],
   "source": [
    "for num, value in enumerate(data_loader):\n",
    "    #print(value) tuple of (datas, labels)\n",
    "    value = value[0] # get only datas\n",
    "    print(value.shape)\n",
    "    vis.images(value)\n",
    "    break"
   ]
  },
  {
   "cell_type": "code",
   "execution_count": 11,
   "metadata": {},
   "outputs": [
    {
     "data": {
      "text/plain": [
       "''"
      ]
     },
     "execution_count": 11,
     "metadata": {},
     "output_type": "execute_result"
    }
   ],
   "source": [
    "vis.close(env=\"main\")"
   ]
  },
  {
   "cell_type": "code",
   "execution_count": 19,
   "metadata": {},
   "outputs": [],
   "source": [
    "Y_data = torch.randn(5)\n",
    "plt = vis.line(Y = Y_data)"
   ]
  },
  {
   "cell_type": "markdown",
   "metadata": {},
   "source": [
    "## Line Plot"
   ]
  },
  {
   "cell_type": "code",
   "execution_count": 20,
   "metadata": {},
   "outputs": [],
   "source": [
    "X_data = torch.Tensor([1,2,3,4,5])\n",
    "plt = vis.line(Y=Y_data, X = X_data)"
   ]
  },
  {
   "cell_type": "markdown",
   "metadata": {},
   "source": [
    "## Line Update"
   ]
  },
  {
   "cell_type": "code",
   "execution_count": 21,
   "metadata": {},
   "outputs": [
    {
     "data": {
      "text/plain": [
       "'window_39d440fe7ffc4e'"
      ]
     },
     "execution_count": 21,
     "metadata": {},
     "output_type": "execute_result"
    }
   ],
   "source": [
    "Y_append = torch.randn(1)\n",
    "X_append = torch.Tensor([6])\n",
    "\n",
    "vis.line(Y = Y_append, X =X_append, win=plt, update=\"append\")"
   ]
  },
  {
   "cell_type": "markdown",
   "metadata": {},
   "source": [
    "## Multiple Line on Single Windows"
   ]
  },
  {
   "cell_type": "code",
   "execution_count": 25,
   "metadata": {},
   "outputs": [],
   "source": [
    "num = torch.Tensor(list(range(0, 10)))\n",
    "num = num.view(-1 ,1)\n",
    "num = torch.cat((num, num), dim = 1)\n",
    "\n",
    "plt = vis.line(Y = torch.randn(10, 2), X = num)"
   ]
  },
  {
   "cell_type": "markdown",
   "metadata": {},
   "source": [
    "## Line info"
   ]
  },
  {
   "cell_type": "code",
   "execution_count": 26,
   "metadata": {},
   "outputs": [],
   "source": [
    "plt = vis.line(Y = Y_data, X = X_data, opts = dict(title = 'Test', showlegend = True))"
   ]
  },
  {
   "cell_type": "code",
   "execution_count": 27,
   "metadata": {},
   "outputs": [],
   "source": [
    "plt = vis.line(Y=Y_data, X = X_data, opts= dict(title='Test', legend = ['no.1'], showlegend=True))"
   ]
  },
  {
   "cell_type": "code",
   "execution_count": 28,
   "metadata": {},
   "outputs": [],
   "source": [
    "plt = vis.line(Y=torch.randn(10, 2), X = num, opts=dict(title = 'Test', legend = ['no.1', 'no.2'], showlegend = True))"
   ]
  },
  {
   "cell_type": "markdown",
   "metadata": {},
   "source": [
    "## Make Function for update line"
   ]
  },
  {
   "cell_type": "code",
   "execution_count": 31,
   "metadata": {},
   "outputs": [],
   "source": [
    "def loss_tracker(loss_plot, loss_value, num):\n",
    "    vis.line(X=num, Y = loss_value, win = loss_plot, update = 'append')"
   ]
  },
  {
   "cell_type": "code",
   "execution_count": 36,
   "metadata": {},
   "outputs": [],
   "source": [
    "plt = vis.line(Y = torch.Tensor(1).zero_())\n",
    "\n",
    "for i in range(500):\n",
    "    loss = torch.randn(1) + i\n",
    "    loss_tracker(plt, loss, torch.Tensor([i]))"
   ]
  },
  {
   "cell_type": "markdown",
   "metadata": {},
   "source": [
    "## Close the window"
   ]
  },
  {
   "cell_type": "code",
   "execution_count": 37,
   "metadata": {},
   "outputs": [
    {
     "data": {
      "text/plain": [
       "''"
      ]
     },
     "execution_count": 37,
     "metadata": {},
     "output_type": "execute_result"
    },
    {
     "name": "stderr",
     "output_type": "stream",
     "text": [
      "Connection is already closed.\n",
      "[WinError 10061] No connection could be made because the target machine actively refused it\n",
      "[WinError 10061] No connection could be made because the target machine actively refused it\n",
      "[WinError 10061] No connection could be made because the target machine actively refused it\n"
     ]
    }
   ],
   "source": [
    "vis.close(env = \"main\")"
   ]
  }
 ],
 "metadata": {
  "interpreter": {
   "hash": "38ed4d61829b01de31b0fe0651719916120d9f7e023a62cbbfea93b7d24a50a0"
  },
  "kernelspec": {
   "display_name": "Python 3.8.8 64-bit ('buddhalight': conda)",
   "name": "python3"
  },
  "language_info": {
   "codemirror_mode": {
    "name": "ipython",
    "version": 3
   },
   "file_extension": ".py",
   "mimetype": "text/x-python",
   "name": "python",
   "nbconvert_exporter": "python",
   "pygments_lexer": "ipython3",
   "version": "3.8.8"
  },
  "orig_nbformat": 4
 },
 "nbformat": 4,
 "nbformat_minor": 2
}

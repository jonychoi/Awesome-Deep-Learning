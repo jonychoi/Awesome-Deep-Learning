{
 "cells": [
  {
   "cell_type": "markdown",
   "metadata": {},
   "source": [
    "# Lab 10.2: Deep Cnn with MNIST Classifier\n",
    "\n",
    "**Jonathan Choi 2021**\n",
    "\n",
    "**[Deep Learning By Torch] End to End study scripts of Deep Learning by implementing code practice with Pytorch.**\n",
    "\n",
    "If you have an any issue, please PR below.\n",
    "\n",
    "[[Deep Learning By Torch] - Github @JonyChoi](https://github.com/jonychoi/Deep-Learning-By-Torch)\n",
    "\n",
    "Here we are going to create the Deep CNN to classify the MNIST Digits."
   ]
  },
  {
   "cell_type": "markdown",
   "metadata": {},
   "source": [
    "## Imports"
   ]
  },
  {
   "cell_type": "code",
   "execution_count": 1,
   "metadata": {},
   "outputs": [],
   "source": [
    "import torch\n",
    "import torch.nn as nn\n",
    "import torch.nn.functional as F\n",
    "import torch.optim as optim\n",
    "import torchvision.datasets as datasets\n",
    "import torchvision.transforms as transforms\n",
    "import torch.nn.init as init"
   ]
  },
  {
   "cell_type": "code",
   "execution_count": 2,
   "metadata": {},
   "outputs": [],
   "source": [
    "device = 'cuda' if torch.cuda.is_available() else 'cpu'\n",
    "\n",
    "torch.manual_seed(1)\n",
    "\n",
    "if device == 'cuda':\n",
    "    torch.cuda.manual_seed_all(1)"
   ]
  },
  {
   "cell_type": "markdown",
   "metadata": {},
   "source": [
    "## Set Hyperparameters"
   ]
  },
  {
   "cell_type": "code",
   "execution_count": 3,
   "metadata": {},
   "outputs": [],
   "source": [
    "learning_rate = 0.001\n",
    "training_epochs = 20\n",
    "batch_size = 100"
   ]
  },
  {
   "cell_type": "markdown",
   "metadata": {},
   "source": [
    "## Load MNIST Data"
   ]
  },
  {
   "cell_type": "code",
   "execution_count": 4,
   "metadata": {},
   "outputs": [
    {
     "name": "stderr",
     "output_type": "stream",
     "text": [
      "C:\\Users\\buddhalight\\envs\\buddhalight\\lib\\site-packages\\torchvision\\datasets\\mnist.py:498: UserWarning: The given NumPy array is not writeable, and PyTorch does not support non-writeable tensors. This means you can write to the underlying (supposedly non-writeable) NumPy array using the tensor. You may want to copy the array to protect its data or make it writeable before converting it to a tensor. This type of warning will be suppressed for the rest of this program. (Triggered internally at  ..\\torch\\csrc\\utils\\tensor_numpy.cpp:180.)\n",
      "  return torch.from_numpy(parsed.astype(m[2], copy=False)).view(*s)\n"
     ]
    }
   ],
   "source": [
    "mnist_train = datasets.MNIST(root = 'MNIST_data/',\n",
    "                             download = True,\n",
    "                             train = True,\n",
    "                             transform = transforms.ToTensor())\n",
    "mnist_test = datasets.MNIST(root = 'MNIST_data/',\n",
    "                            download = True,\n",
    "                            train = False,\n",
    "                            transform = transforms.ToTensor())"
   ]
  },
  {
   "cell_type": "code",
   "execution_count": 5,
   "metadata": {},
   "outputs": [],
   "source": [
    "data_loader = torch.utils.data.DataLoader(dataset = mnist_train, shuffle = True, batch_size = batch_size, drop_last = True)"
   ]
  },
  {
   "cell_type": "markdown",
   "metadata": {},
   "source": [
    "## Model Define"
   ]
  },
  {
   "cell_type": "code",
   "execution_count": 16,
   "metadata": {},
   "outputs": [],
   "source": [
    "class Deep_CNN_MNIST(nn.Module):\n",
    "    def __init__(self):\n",
    "        super().__init__()\n",
    "        self.keep_prob = 0.5\n",
    "        # Layer 1: ImageInput Shape = (?, 1, 28, 28)\n",
    "        # Conv   : ImageOutput Shape = (?, 32, 28, 28)\n",
    "        # Pool   : ImageOutput Shape = (?, 32, 14, 14)\n",
    "        self.layer1 = nn.Sequential(\n",
    "            nn.Conv2d(1, 32, kernel_size = 3, stride = 1, padding = 1),\n",
    "            nn.ReLU(),\n",
    "            nn.MaxPool2d(kernel_size = 2, stride = 2)\n",
    "        )\n",
    "        # Layer 2: ImageInput Shape = (?, 32, 14, 14)\n",
    "        # Conv   : ImageOutput Shape = (?, 64, 14, 14)\n",
    "        # Pool   : ImageOutput Shape = (?, 64, 7, 7)\n",
    "        self.layer2 = nn.Sequential(\n",
    "            nn.Conv2d(32, 64, kernel_size = 3, stride = 1, padding = 1),\n",
    "            nn.ReLU(),\n",
    "            nn.MaxPool2d(kernel_size = 2, stride = 2)\n",
    "        )\n",
    "        # Layer 3: ImageInput Shape = (?, 64, 7, 7)\n",
    "        # Conv   : ImageOutput Shape = (?, 128, 7, 7)\n",
    "        # Pool   : ImageOutput Shape = (?, 128, 4, 4)\n",
    "        self.layer3 = nn.Sequential(\n",
    "            nn.Conv2d(64, 128, kernel_size = 3, stride = 1, padding = 1),\n",
    "            nn.ReLU(),\n",
    "            nn.MaxPool2d(kernel_size = 2, stride = 2, padding = 1)\n",
    "        )\n",
    "        # Layer 4: Fully Connected 4x4x128 inputs => 625 outputs\n",
    "        self.fc1 = nn.Linear(4 * 4 * 128, 625)\n",
    "        init.xavier_uniform_(self.fc1.weight)\n",
    "        self.layer4 = nn.Sequential(\n",
    "            self.fc1,\n",
    "            nn.ReLU(),\n",
    "            nn.Dropout(p = 1 - self.keep_prob)\n",
    "        )\n",
    "        # Layer 5: Final Fully Connected 625 outputs => 10 outputs\n",
    "        self.layer5 = nn.Linear(625, 10)\n",
    "        init.xavier_uniform_(self.layer5.weight)\n",
    "\n",
    "    def forward(self, x):\n",
    "        out = self.layer1(x)\n",
    "        out = self.layer2(out)\n",
    "        out = self.layer3(out)\n",
    "        out = out.view(out.size(0), -1) # Flatten for Fully Connected\n",
    "        out = self.layer4(out)\n",
    "        out = self.layer5(out)\n",
    "        return out"
   ]
  },
  {
   "cell_type": "code",
   "execution_count": 17,
   "metadata": {},
   "outputs": [],
   "source": [
    "model = Deep_CNN_MNIST().to(device)"
   ]
  },
  {
   "cell_type": "code",
   "execution_count": 18,
   "metadata": {},
   "outputs": [],
   "source": [
    "optimizer = optim.Adam(model.parameters(), lr= learning_rate)"
   ]
  },
  {
   "cell_type": "markdown",
   "metadata": {},
   "source": [
    "## Train"
   ]
  },
  {
   "cell_type": "code",
   "execution_count": 19,
   "metadata": {},
   "outputs": [
    {
     "name": "stdout",
     "output_type": "stream",
     "text": [
      "Epoch: 1 / 20, Cost: 0.188810\n",
      "Epoch: 2 / 20, Cost: 0.052321\n",
      "Epoch: 3 / 20, Cost: 0.038685\n",
      "Epoch: 4 / 20, Cost: 0.029705\n",
      "Epoch: 5 / 20, Cost: 0.024148\n",
      "Epoch: 6 / 20, Cost: 0.020392\n",
      "Epoch: 7 / 20, Cost: 0.016698\n",
      "Epoch: 8 / 20, Cost: 0.013662\n",
      "Epoch: 9 / 20, Cost: 0.012959\n",
      "Epoch: 10 / 20, Cost: 0.013086\n",
      "Epoch: 11 / 20, Cost: 0.010228\n",
      "Epoch: 12 / 20, Cost: 0.010833\n",
      "Epoch: 13 / 20, Cost: 0.008551\n",
      "Epoch: 14 / 20, Cost: 0.007611\n",
      "Epoch: 15 / 20, Cost: 0.007190\n",
      "Epoch: 16 / 20, Cost: 0.006507\n",
      "Epoch: 17 / 20, Cost: 0.007441\n",
      "Epoch: 18 / 20, Cost: 0.005674\n",
      "Epoch: 19 / 20, Cost: 0.004650\n",
      "Epoch: 20 / 20, Cost: 0.006838\n"
     ]
    }
   ],
   "source": [
    "total_batch = len(data_loader)\n",
    "\n",
    "model.train() # Set Model to train mode\n",
    "for epoch in range(training_epochs):\n",
    "\n",
    "    avg_cost = 0\n",
    "\n",
    "    for X, Y in data_loader:\n",
    "\n",
    "        # Image is already size of (28 x 28), no reshape\n",
    "        # Label is not one-hot encoded\n",
    "\n",
    "        X = X.to(device)\n",
    "        Y = Y.to(device)\n",
    "\n",
    "        #prediction\n",
    "        pred = model(X)\n",
    "\n",
    "        #cost\n",
    "        cost = F.cross_entropy(pred, Y).to(device)\n",
    "\n",
    "        #Reduce cost\n",
    "        optimizer.zero_grad()\n",
    "        cost.backward()\n",
    "        optimizer.step()\n",
    "\n",
    "        avg_cost += cost\n",
    "\n",
    "    avg_cost = avg_cost / total_batch\n",
    "\n",
    "    print('Epoch: {} / 20, Cost: {:.6f}'.format(epoch + 1, avg_cost))"
   ]
  },
  {
   "cell_type": "code",
   "execution_count": 26,
   "metadata": {},
   "outputs": [
    {
     "name": "stdout",
     "output_type": "stream",
     "text": [
      "Accuracy:  0.9656999707221985\n"
     ]
    }
   ],
   "source": [
    "#Test model and Check Accuracy\n",
    "\n",
    "with torch.no_grad():\n",
    "\n",
    "    X = mnist_test.data.view(len(mnist_test), 1, 28, 28).float().to(device)\n",
    "    Y = mnist_test.targets.to(device)\n",
    "\n",
    "    #prediction\n",
    "    pred = model(X)\n",
    "    correct_prediction = (torch.argmax(pred, 1) == Y)\n",
    "    accuracy = correct_prediction.float().mean()\n",
    "    \n",
    "    print('Accuracy: ', accuracy.item())"
   ]
  }
 ],
 "metadata": {
  "interpreter": {
   "hash": "38ed4d61829b01de31b0fe0651719916120d9f7e023a62cbbfea93b7d24a50a0"
  },
  "kernelspec": {
   "display_name": "Python 3.8.8 64-bit ('buddhalight': conda)",
   "name": "python3"
  },
  "language_info": {
   "codemirror_mode": {
    "name": "ipython",
    "version": 3
   },
   "file_extension": ".py",
   "mimetype": "text/x-python",
   "name": "python",
   "nbconvert_exporter": "python",
   "pygments_lexer": "ipython3",
   "version": "3.8.8"
  },
  "orig_nbformat": 4
 },
 "nbformat": 4,
 "nbformat_minor": 2
}

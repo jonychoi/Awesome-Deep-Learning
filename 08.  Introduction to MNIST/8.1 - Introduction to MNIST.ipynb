{
 "cells": [
  {
   "cell_type": "markdown",
   "metadata": {},
   "source": [
    "# Lab 7.1: Introduction to MNIST\n",
    "\n",
    "**Jonathan Choi 2021**\n",
    "\n",
    "**[Deep Learning By Torch] End to End study scripts of Deep Learning by implementing code practice with Pytorch.**\n",
    "\n",
    "If you have an any issue, please PR below.\n",
    "\n",
    "[[Deep Learning By Torch] - Github @JonyChoi](https://github.com/jonychoi/Deep-Learning-By-Torch)"
   ]
  },
  {
   "cell_type": "markdown",
   "metadata": {},
   "source": [
    "## Imports"
   ]
  },
  {
   "cell_type": "code",
   "execution_count": 16,
   "metadata": {},
   "outputs": [],
   "source": [
    "import torch\n",
    "import torch.nn as nn\n",
    "import torch.optim as optim\n",
    "import torch.nn.functional as F\n",
    "import torchvision.datasets as datasets\n",
    "import torchvision.transforms as transforms\n",
    "import matplotlib.pyplot as plt\n",
    "import random"
   ]
  },
  {
   "cell_type": "markdown",
   "metadata": {},
   "source": [
    "### Take a Moment!\n",
    "\n",
    "**TORCHVISION.TRANSFORMS**\n",
    "\n",
    "Transforms are common image transformations. They can be chained together using Compose. Most transform classes have a function equivalent: functional transforms give fine-grained control over the transformations. This is useful if you have to build a more complex transformation pipeline (e.g. in the case of segmentation tasks).\n",
    "\n",
    "Most transformations accept both PIL images and tensor images, although some transformations are PIL-only and some are tensor-only. The Conversion Transforms may be used to convert to and from PIL images.\n",
    "\n",
    "The transformations that accept tensor images also accept batches of tensor images. A Tensor Image is a tensor with (C, H, W) shape, where C is a number of channels, H and W are image height and width. A batch of Tensor Images is a tensor of (B, C, H, W) shape, where B is a number of images in the batch.\n",
    "\n",
    "The expected range of the values of a tensor image is implicitely defined by the tensor dtype. ***Tensor images with a float dtype are expected to have values in [0, 1). Tensor images with an integer dtype are expected to have values in [0, MAX_DTYPE] where MAX_DTYPE is the largest value that can be represented in that dtype.***\n",
    "\n",
    "Randomized transformations will apply the same transformation to all the images of a given batch, but they will produce different transformations across calls. For reproducible transformations across calls, you may use functional transforms.\n",
    "\n",
    "---\n",
    "\n",
    "The following examples illustate the use of the available transforms:\n",
    "\n",
    "\n",
    "- Illustration of transforms\n",
    "\n",
    "https://pytorch.org/vision/stable/auto_examples/plot_transforms.html#sphx-glr-auto-examples-plot-transforms-py\n",
    "\n",
    "\n",
    "![](https://pytorch.org/vision/stable/_images/sphx_glr_plot_transforms_0011.png)\n",
    "\n",
    "---\n",
    "- Tensor transforms and JIT\n",
    "\n",
    "https://pytorch.org/vision/stable/auto_examples/plot_scripted_tensor_transforms.html#sphx-glr-auto-examples-plot-scripted-tensor-transforms-py\n",
    "\n",
    "![](https://pytorch.org/vision/stable/_images/sphx_glr_plot_scripted_tensor_transforms_0011.png)\n",
    "\n",
    "---\n",
    "\n",
    "**WARNING**\n",
    "\n",
    "Since v0.8.0 all random transformations are using torch default random generator to sample random parameters. It is a backward compatibility breaking change and user should set the random state as following:\n",
    "\n",
    "```\n",
    "# Previous versions\n",
    "# import random\n",
    "# random.seed(12)\n",
    "\n",
    "# Now\n",
    "import torch\n",
    "torch.manual_seed(17)\n",
    "```\n",
    "Please, keep in mind that the same seed for torch random generator and Python random generator will not produce the same results.\n",
    "\n",
    "https://pytorch.org/vision/stable/transforms.html\n",
    "\n",
    "---\n",
    "**CLASS torchvision.transforms.ToTensor**\n",
    "\n",
    "Convert a PIL Image or numpy.ndarray to tensor. This transform does not support torchscript.\n",
    "\n",
    "Converts a PIL Image or numpy.ndarray (H x W x C) in the range [0, 255] to a torch.FloatTensor of shape (C x H x W) in the range [0.0, 1.0] if the PIL Image belongs to one of the modes (L, LA, P, I, F, RGB, YCbCr, RGBA, CMYK, 1) or if the numpy.ndarray has dtype = np.uint8\n",
    "\n",
    "In the other cases, tensors are returned without scaling.\n",
    "\n",
    "**NOTE**\n",
    "\n",
    "Because the input image is scaled to [0.0, 1.0], this transformation should not be used when transforming target image masks. See the references for implementing the transforms for image masks.\n"
   ]
  },
  {
   "cell_type": "markdown",
   "metadata": {},
   "source": [
    "## Set Device with cuda"
   ]
  },
  {
   "cell_type": "code",
   "execution_count": 17,
   "metadata": {},
   "outputs": [],
   "source": [
    "device = 'cuda' if torch.cuda.is_available() else 'cpu'\n",
    "\n",
    "random.seed(1)\n",
    "torch.manual_seed(1)\n",
    "if device == 'cuda':\n",
    "    torch.cuda.manual_seed_all(1)"
   ]
  },
  {
   "cell_type": "markdown",
   "metadata": {},
   "source": [
    "## Set Hyperparameters"
   ]
  },
  {
   "cell_type": "code",
   "execution_count": 18,
   "metadata": {},
   "outputs": [],
   "source": [
    "training_epochs = 15\n",
    "batch_size = 100"
   ]
  },
  {
   "cell_type": "markdown",
   "metadata": {},
   "source": [
    "## Load MNIST Dataset"
   ]
  },
  {
   "cell_type": "code",
   "execution_count": 19,
   "metadata": {},
   "outputs": [],
   "source": [
    "mnist_train = datasets.MNIST(root='MNIST_data/',\n",
    "                             train=True,\n",
    "                             transform=transforms.ToTensor(),\n",
    "                             download=True)\n",
    "mnist_test = datasets.MNIST(root='MNIST_data/',\n",
    "                            train=False,\n",
    "                            transform=transforms.ToTensor(),\n",
    "                            download=True)"
   ]
  },
  {
   "cell_type": "code",
   "execution_count": 20,
   "metadata": {},
   "outputs": [],
   "source": [
    "data_loader = torch.utils.data.DataLoader(dataset = mnist_train,\n",
    "                                          batch_size = batch_size,\n",
    "                                          shuffle = True,\n",
    "                                          drop_last=True)"
   ]
  },
  {
   "cell_type": "markdown",
   "metadata": {},
   "source": [
    "## Create Model"
   ]
  },
  {
   "cell_type": "code",
   "execution_count": 21,
   "metadata": {},
   "outputs": [],
   "source": [
    "# Mnist data image of shape 28 * 28 = 784\n",
    "linear = torch.nn.Linear(784, 10).to(device)"
   ]
  },
  {
   "cell_type": "markdown",
   "metadata": {},
   "source": [
    "### Take a Moment!\n",
    "\n",
    "> **F.cross entropy vs torch.nn.Cross_Entropy_Loss**\n",
    "\n",
    "There isn’t much difference for losses.\n",
    "The main difference between the nn.functional.xxx and the nn.Xxx is that one has a state and one does not.\n",
    "***This means that for a linear layer for example, if you use the functional version, you will need to handle the weights yourself (including passing them to the optimizer or moving them to the gpu) while the nn.Xxx version will do all of that for you with .parameters() or .to(device).***\n",
    "\n",
    "***For loss functions, as no parameters are needed (in general), you won’t find much difference***. Except for example, if you use cross entropy with some weighting between your classes, using the nn.CrossEntropyLoss() 539 module, you will give your weights only once while creating the module and then use it. If you were using the functional version 503, you will need to pass the weights every single time you will use it.\n",
    "\n",
    "https://discuss.pytorch.org/t/f-cross-entropy-vs-torch-nn-cross-entropy-loss/25505\n",
    "\n",
    "---\n",
    "\n",
    "> **How to choose between torch.nn.Functional and torch.nn module?**\n",
    "\n",
    "A nn.Module is actually a OO wrapper around the functional interface, that contains a number of utility methods, like eval() and parameters(), ***and it automatically creates the parameters of the modules for you.***\n",
    "you can use the functional interface whenever you want, but that requires you to define the weights by hand. Here is an example https://github.com/szagoruyko/wide-residual-networks/tree/master/pytorch\n",
    "\n",
    "https://discuss.pytorch.org/t/how-to-choose-between-torch-nn-functional-and-torch-nn-module/2800/6"
   ]
  },
  {
   "cell_type": "code",
   "execution_count": 22,
   "metadata": {},
   "outputs": [],
   "source": [
    "criterion = torch.nn.CrossEntropyLoss().to(device)\n",
    "optimizer = torch.optim.SGD(linear.parameters(), lr=0.1)"
   ]
  },
  {
   "cell_type": "markdown",
   "metadata": {},
   "source": [
    "### Take a Moment!\n",
    "\n",
    "**What does %s mean in a Python format string?**\n",
    "\n",
    "The % symbol is used in Python with a large variety of data types and configurations. %s specifically is used to perform concatenation of strings together. It allows us to format a value inside a string. It is used to incorporate another string within a string. It automatically provides type conversion from value to string. \n",
    "\n",
    "The %s operator is put where the string is to be specified. The number of values you want to append to a string should be equivalent to the number specified in parentheses after the % operator at the end of the string value. \n",
    "\n",
    "The following Python code illustrates the way of performing string formatting. \n",
    "\n",
    "Simple use of %s\n",
    "\n",
    "```\n",
    "# declaring a string variable\n",
    "name = \"Geek\"\n",
    "  \n",
    "# append a string within a string\n",
    "print(\"Hey, %s!\" % name)\n",
    "```\n",
    "\n",
    "https://www.geeksforgeeks.org/what-does-s-mean-in-a-python-format-string/"
   ]
  },
  {
   "cell_type": "markdown",
   "metadata": {},
   "source": [
    "## Train the MNIST"
   ]
  },
  {
   "cell_type": "code",
   "execution_count": 9,
   "metadata": {},
   "outputs": [
    {
     "name": "stdout",
     "output_type": "stream",
     "text": [
      "Epoch:  0001 cost =   0.533753\n",
      "Epoch:  0002 cost =   0.359070\n",
      "Epoch:  0003 cost =   0.330854\n",
      "Epoch:  0004 cost =   0.316269\n",
      "Epoch:  0005 cost =   0.306896\n",
      "Epoch:  0006 cost =   0.299755\n",
      "Epoch:  0007 cost =   0.295043\n",
      "Epoch:  0008 cost =   0.290703\n",
      "Epoch:  0009 cost =   0.287395\n",
      "Epoch:  0010 cost =   0.284370\n",
      "Epoch:  0011 cost =   0.281918\n",
      "Epoch:  0012 cost =   0.279720\n",
      "Epoch:  0013 cost =   0.277782\n",
      "Epoch:  0014 cost =   0.275830\n",
      "Epoch:  0015 cost =   0.274403\n",
      "Learning finished\n"
     ]
    }
   ],
   "source": [
    "for epoch in range(training_epochs):\n",
    "    avg_cost = 0\n",
    "    total_Batch = len(data_loader)\n",
    "\n",
    "    for X, Y in data_loader:\n",
    "        #reshape input image into (batch_size, 784)\n",
    "        # Label is not one-hot encoded\n",
    "        X = X.view(-1, 28 * 28).to(device)\n",
    "        Y = Y.to(device)\n",
    "\n",
    "        #prediction\n",
    "        pred = linear(X)\n",
    "\n",
    "        #cost\n",
    "        cost = criterion(pred, Y)\n",
    "\n",
    "        #Reduce cost\n",
    "        optimizer.zero_grad()\n",
    "        cost.backward()\n",
    "        optimizer.step()\n",
    "\n",
    "        avg_cost += cost / total_Batch\n",
    "\n",
    "    print('Epoch: ', '%04d' % (epoch + 1), 'cost = ', '{:9f}'.format(avg_cost)) \n",
    "\n",
    "print('Learning finished')       \n",
    "\n"
   ]
  },
  {
   "cell_type": "markdown",
   "metadata": {},
   "source": [
    "## Test the MNIST DATA"
   ]
  },
  {
   "cell_type": "code",
   "execution_count": 10,
   "metadata": {},
   "outputs": [
    {
     "name": "stdout",
     "output_type": "stream",
     "text": [
      "Accuracy: 0.8837999701499939\n",
      "Label:  4\n",
      "Prediction:  4\n"
     ]
    },
    {
     "name": "stderr",
     "output_type": "stream",
     "text": [
      "C:\\Users\\buddhalight\\envs\\buddhalight\\lib\\site-packages\\torchvision\\datasets\\mnist.py:67: UserWarning: test_data has been renamed data\n",
      "  warnings.warn(\"test_data has been renamed data\")\n",
      "C:\\Users\\buddhalight\\envs\\buddhalight\\lib\\site-packages\\torchvision\\datasets\\mnist.py:57: UserWarning: test_labels has been renamed targets\n",
      "  warnings.warn(\"test_labels has been renamed targets\")\n"
     ]
    },
    {
     "data": {
      "image/png": "[encoded data removed]",
      "text/plain": [
       "<Figure size 432x288 with 1 Axes>"
      ]
     },
     "metadata": {
      "needs_background": "light"
     },
     "output_type": "display_data"
    }
   ],
   "source": [
    "with torch.no_grad():\n",
    "    X_test = mnist_test.test_data.view(-1, 28 * 28).float().to(device)\n",
    "    Y_test = mnist_test.test_labels.to(device)\n",
    "\n",
    "    prediction = linear(X_test)\n",
    "    correct_prediction = torch.argmax(prediction, 1) == Y_test\n",
    "    accuracy = correct_prediction.float().mean()\n",
    "\n",
    "    print('Accuracy:', accuracy.item())\n",
    "\n",
    "    #Get one and Predict\n",
    "    r = random.randint(0, len(mnist_test) - 1)\n",
    "    X_single_data = mnist_test.test_data[r: r+1].view(-1, 28 * 28).float().to(device)\n",
    "    Y_single_data = mnist_test.test_labels[r: r+1].to(device)\n",
    "\n",
    "    print('Label: ', Y_single_data.item())\n",
    "    single_prediction = linear(X_single_data)\n",
    "    print('Prediction: ', torch.argmax(single_prediction).item())\n",
    "\n",
    "    plt.imshow(mnist_test.test_data[r: r+1].view(28, 28), cmap='Greys', interpolation='nearest')\n",
    "    plt.show()"
   ]
  },
  {
   "cell_type": "markdown",
   "metadata": {},
   "source": [
    "## Additional Section\n",
    "\n",
    "Let's make our model clear as we've done always and let's make our accuracy and prediction check as a function with multiple datas"
   ]
  },
  {
   "cell_type": "code",
   "execution_count": 11,
   "metadata": {},
   "outputs": [],
   "source": [
    "class MNIST_Classifier(nn.Module):\n",
    "    def __init__(self):\n",
    "        super().__init__()\n",
    "        self.linear = nn.Linear(784, 10)\n",
    "\n",
    "    def forward(self, x):\n",
    "        return self.linear(x)"
   ]
  },
  {
   "cell_type": "code",
   "execution_count": 12,
   "metadata": {},
   "outputs": [],
   "source": [
    "model = MNIST_Classifier().to(device)"
   ]
  },
  {
   "cell_type": "code",
   "execution_count": 13,
   "metadata": {},
   "outputs": [],
   "source": [
    "optimizer = optim.SGD(model.parameters(), lr=0.1)"
   ]
  },
  {
   "cell_type": "markdown",
   "metadata": {},
   "source": [
    "### Take a Moment!\n",
    "\n",
    "```len(data_loader)```\n",
    "\n",
    "returns the size of the each minibatch\n",
    "\n",
    "Therefore, in our mnist dataset, we have 60,000 images, and the batch_size is 100, we have 600 mini batches.\n",
    "\n",
    "So if we divide our mini batch cost by total amount of mini batch (600)\n",
    "\n",
    "each mini batch cost / 600 * 600 (iteration: since we have 600 minibatch)\n",
    "\n",
    "=> we will get cost for one mini batch for one epoch.\n",
    "\n",
    "(We update our gradients by one minibatch)"
   ]
  },
  {
   "cell_type": "code",
   "execution_count": 14,
   "metadata": {},
   "outputs": [
    {
     "name": "stdout",
     "output_type": "stream",
     "text": [
      "Epoch: 00/20, Cost: 0.536617\n",
      "Epoch: 01/20, Cost: 0.359027\n",
      "Epoch: 02/20, Cost: 0.330956\n",
      "Epoch: 03/20, Cost: 0.316481\n",
      "Epoch: 04/20, Cost: 0.306736\n",
      "Epoch: 05/20, Cost: 0.300188\n",
      "Epoch: 06/20, Cost: 0.294988\n",
      "Epoch: 07/20, Cost: 0.290778\n",
      "Epoch: 08/20, Cost: 0.287224\n",
      "Epoch: 09/20, Cost: 0.284532\n",
      "Epoch: 10/20, Cost: 0.281796\n",
      "Epoch: 11/20, Cost: 0.279714\n",
      "Epoch: 12/20, Cost: 0.277764\n",
      "Epoch: 13/20, Cost: 0.275730\n",
      "Epoch: 14/20, Cost: 0.274276\n",
      "Epoch: 15/20, Cost: 0.272796\n",
      "Epoch: 16/20, Cost: 0.271504\n",
      "Epoch: 17/20, Cost: 0.270395\n",
      "Epoch: 18/20, Cost: 0.269118\n",
      "Epoch: 19/20, Cost: 0.267896\n",
      "Epoch: 20/20, Cost: 0.267050\n"
     ]
    }
   ],
   "source": [
    "nb_epochs = 20\n",
    "\n",
    "for epoch in range(nb_epochs + 1):\n",
    "\n",
    "    #Get average cost of each batch\n",
    "    batch_cost = 0\n",
    "\n",
    "    for X, Y in data_loader:\n",
    "\n",
    "        #Change shape\n",
    "        X = X.view(-1, 28 * 28).to(device)\n",
    "        Y = Y.to(device)\n",
    "\n",
    "        #prediction\n",
    "        pred = model(X)\n",
    "\n",
    "        #cost\n",
    "        cost = F.cross_entropy(pred, Y).to(device)\n",
    "\n",
    "        #Reduce cost\n",
    "        optimizer.zero_grad()\n",
    "        cost.backward()\n",
    "        optimizer.step()\n",
    "        \n",
    "        #add cost\n",
    "        batch_cost += cost / len(data_loader)\n",
    "    print('Epoch: {:02d}/{}, Cost: {:.6f}'.format(epoch, nb_epochs, batch_cost))"
   ]
  },
  {
   "cell_type": "markdown",
   "metadata": {},
   "source": [
    "### Take a Moment!\n",
    "\n",
    "When I set above epochs as 100, the below accuracy shows only 7% of accuracy.\n",
    "When I set the epochs as 20, the accuracy was up to 88%. It is the good example of showing overfitting."
   ]
  },
  {
   "cell_type": "markdown",
   "metadata": {},
   "source": [
    "## Accurcacy Tester"
   ]
  },
  {
   "cell_type": "markdown",
   "metadata": {},
   "source": [
    "### Take a Moment!\n",
    "\n",
    "**TORCH.RANDINT**\n",
    "\n",
    "> torch.randint(low=0, high, size, *, generator=None, out=None, dtype=None, layout=torch.strided, device=None, requires_grad=False) → Tensor\n",
    "\n",
    "Returns a tensor filled with random integers generated uniformly between low (inclusive) and high (exclusive).\n",
    "\n",
    "The shape of the tensor is defined by the variable argument size.\n",
    "\n",
    "**NOTE**\n",
    "\n",
    "With the global dtype default (torch.float32), this function returns a tensor with dtype torch.int64.\n",
    "\n",
    "**Parameters**\n",
    "\n",
    "- low (int, optional) – Lowest integer to be drawn from the distribution. Default: 0.\n",
    "\n",
    "- high (int) – One above the highest integer to be drawn from the distribution.\n",
    "\n",
    "- size (tuple) – a tuple defining the shape of the output tensor."
   ]
  },
  {
   "cell_type": "markdown",
   "metadata": {},
   "source": []
  },
  {
   "cell_type": "code",
   "execution_count": 15,
   "metadata": {},
   "outputs": [
    {
     "name": "stdout",
     "output_type": "stream",
     "text": [
      "Total accuracy of test set: 88.089996%\n",
      "Label:  0\n",
      "Prediction:  0\n"
     ]
    },
    {
     "data": {
      "image/png": "[encoded data removed]",
      "text/plain": [
       "<Figure size 432x288 with 1 Axes>"
      ]
     },
     "metadata": {
      "needs_background": "light"
     },
     "output_type": "display_data"
    },
    {
     "name": "stdout",
     "output_type": "stream",
     "text": [
      "Label:  8\n",
      "Prediction:  8\n"
     ]
    },
    {
     "data": {
      "image/png": "[encoded data removed]",
      "text/plain": [
       "<Figure size 432x288 with 1 Axes>"
      ]
     },
     "metadata": {
      "needs_background": "light"
     },
     "output_type": "display_data"
    },
    {
     "name": "stdout",
     "output_type": "stream",
     "text": [
      "Label:  7\n",
      "Prediction:  7\n"
     ]
    },
    {
     "data": {
      "image/png": "[encoded data removed]",
      "text/plain": [
       "<Figure size 432x288 with 1 Axes>"
      ]
     },
     "metadata": {
      "needs_background": "light"
     },
     "output_type": "display_data"
    },
    {
     "name": "stdout",
     "output_type": "stream",
     "text": [
      "Label:  7\n",
      "Prediction:  7\n"
     ]
    },
    {
     "data": {
      "image/png": "[encoded data removed]",
      "text/plain": [
       "<Figure size 432x288 with 1 Axes>"
      ]
     },
     "metadata": {
      "needs_background": "light"
     },
     "output_type": "display_data"
    },
    {
     "name": "stdout",
     "output_type": "stream",
     "text": [
      "Label:  5\n",
      "Prediction:  5\n"
     ]
    },
    {
     "data": {
      "image/png": "[encoded data removed]",
      "text/plain": [
       "<Figure size 432x288 with 1 Axes>"
      ]
     },
     "metadata": {
      "needs_background": "light"
     },
     "output_type": "display_data"
    }
   ],
   "source": [
    "def accuracy_tester(pred_num):\n",
    "\n",
    "    with torch.no_grad():\n",
    "        X_test = mnist_test.test_data.view(-1, 28 * 28).float().to(device)\n",
    "        Y_test = mnist_test.test_labels.to(device)\n",
    "\n",
    "        prediction = model(X_test)\n",
    "        correct_prediction = torch.argmax(prediction, 1) == Y_test\n",
    "        accuracy = correct_prediction.float().mean()*100\n",
    "\n",
    "        print('Total accuracy of test set: {:.6f}%'.format(accuracy.item()))\n",
    "\n",
    "        #Get multiple and Predict\n",
    "        r = random.randint(0, len(mnist_test) - pred_num)\n",
    "        X_multiple_data = mnist_test.test_data[r: r+pred_num].view(-1, 28 * 28).float().to(device)\n",
    "        Y_multiple_data = mnist_test.test_labels[r: r+pred_num].to(device)\n",
    "\n",
    "        for i, data in enumerate(X_multiple_data):\n",
    "            print('Label: ', Y_multiple_data[i].item())\n",
    "\n",
    "            single = model(data)\n",
    "\n",
    "            print('Prediction: ', torch.argmax(single).item())\n",
    "\n",
    "            data = data.to('cpu')\n",
    "            # if not above, the error : TypeError: can't convert cuda:0 device type tensor to numpy. Use Tensor.cpu() to copy the tensor to host memory first.\n",
    "            # Seems to enumerate method makes the tensor's feature corrupt.\n",
    "            \n",
    "            plt.imshow(data.view(28, 28), cmap='Greys', interpolation='nearest')\n",
    "            plt.show()\n",
    "\n",
    "accuracy_tester(5)"
   ]
  }
 ],
 "metadata": {
  "interpreter": {
   "hash": "38ed4d61829b01de31b0fe0651719916120d9f7e023a62cbbfea93b7d24a50a0"
  },
  "kernelspec": {
   "display_name": "Python 3.8.8 64-bit ('buddhalight': conda)",
   "name": "python3"
  },
  "language_info": {
   "codemirror_mode": {
    "name": "ipython",
    "version": 3
   },
   "file_extension": ".py",
   "mimetype": "text/x-python",
   "name": "python",
   "nbconvert_exporter": "python",
   "pygments_lexer": "ipython3",
   "version": "3.8.8"
  },
  "orig_nbformat": 4
 },
 "nbformat": 4,
 "nbformat_minor": 2
}
